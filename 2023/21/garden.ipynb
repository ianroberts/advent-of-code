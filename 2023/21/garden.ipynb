{
 "cells": [
  {
   "cell_type": "code",
   "execution_count": null,
   "id": "910fa041-ec8b-4894-88a4-5c9e17d19db5",
   "metadata": {},
   "outputs": [],
   "source": [
    "import garden"
   ]
  },
  {
   "cell_type": "code",
   "execution_count": null,
   "id": "d2e874d1-6ea4-4bb7-847b-8eb5a7f812e1",
   "metadata": {},
   "outputs": [],
   "source": [
    "matrix, start = garden.parse_input()\n",
    "matrix"
   ]
  },
  {
   "cell_type": "code",
   "execution_count": null,
   "id": "31d47497-4250-48f3-aeb0-55bd0ac6a8fe",
   "metadata": {},
   "outputs": [],
   "source": [
    "points = {start}\n",
    "for i in range(65):\n",
    "    points = garden.one_step_from(matrix, points)\n",
    "print(len(points))"
   ]
  },
  {
   "cell_type": "code",
   "execution_count": null,
   "id": "0bf82308-c187-4e8b-8ffd-c6b07fc2001b",
   "metadata": {},
   "outputs": [],
   "source": [
    "def print_highlight(matrix, visits):\n",
    "    for r in range(len(matrix)):\n",
    "        for c in range(len(matrix[0])):\n",
    "            v = visits.get(garden.Cell(r, c))\n",
    "            if v is not None:\n",
    "                print(f\"{v:x}\", end='')\n",
    "            else:\n",
    "                print(matrix[r][c], end='')\n",
    "        print(\"\")\n",
    "\n",
    "def group_visits(visits):\n",
    "    counts = dict()\n",
    "    for k, v in visits.items():\n",
    "        counts[v] = counts.get(v, 0) + 1\n",
    "    print(counts)"
   ]
  },
  {
   "cell_type": "code",
   "execution_count": null,
   "id": "799ce0a7-4bb5-404e-b3b4-f2717ad00875",
   "metadata": {},
   "outputs": [],
   "source": [
    "points = garden.one_step_from(matrix, points)\n",
    "visits = dict()\n",
    "for p in points:\n",
    "    norm_cell = garden.Cell(p.row % 131, p.col % 131)\n",
    "    visits[norm_cell] = visits.get(norm_cell, 0) + 1\n",
    "print_highlight(matrix, visits)"
   ]
  },
  {
   "cell_type": "code",
   "execution_count": null,
   "id": "97ad9f7e-dc69-49f8-9833-9fee7cb11882",
   "metadata": {},
   "outputs": [],
   "source": [
    "for i in range(131):\n",
    "    points = garden.one_step_from(matrix, points)\n",
    "visits = dict()\n",
    "for p in points:\n",
    "    norm_cell = garden.Cell(p.row % 131, p.col % 131)\n",
    "    visits[norm_cell] = visits.get(norm_cell, 0) + 1\n",
    "print_highlight(matrix, visits)\n",
    "print(group_visits(visits))"
   ]
  },
  {
   "cell_type": "code",
   "execution_count": null,
   "id": "b5dec0d4-bac1-4e2b-a4be-33d119693799",
   "metadata": {},
   "outputs": [],
   "source": [
    "print([k for k, v in visits.items() if v == 2])"
   ]
  }
 ],
 "metadata": {
  "kernelspec": {
   "display_name": "Python 3 (ipykernel)",
   "language": "python",
   "name": "python3"
  },
  "language_info": {
   "codemirror_mode": {
    "name": "ipython",
    "version": 3
   },
   "file_extension": ".py",
   "mimetype": "text/x-python",
   "name": "python",
   "nbconvert_exporter": "python",
   "pygments_lexer": "ipython3",
   "version": "3.10.13"
  }
 },
 "nbformat": 4,
 "nbformat_minor": 5
}
